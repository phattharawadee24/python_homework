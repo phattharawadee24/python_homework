{
 "cells": [
  {
   "cell_type": "markdown",
   "id": "9bac88f9-4d22-4f9a-b7e1-ce5fbbbdbf97",
   "metadata": {},
   "source": [
    "นาวสาว ภัทรวดี สังสีแก้ว \n",
    "\n",
    "รหัส 6712732124"
   ]
  },
  {
   "cell_type": "code",
   "execution_count": 1,
   "id": "075db65f-101e-49ab-9e38-fb4d740dfa7f",
   "metadata": {},
   "outputs": [
    {
     "name": "stdout",
     "output_type": "stream",
     "text": [
      "hello,world\n"
     ]
    }
   ],
   "source": [
    "print (\"hello,world\")"
   ]
  },
  {
   "cell_type": "code",
   "execution_count": null,
   "id": "e7a1173a-9f93-4620-b6b9-0457738db457",
   "metadata": {},
   "outputs": [],
   "source": []
  }
 ],
 "metadata": {
  "kernelspec": {
   "display_name": "Python 3 (ipykernel)",
   "language": "python",
   "name": "python3"
  },
  "language_info": {
   "codemirror_mode": {
    "name": "ipython",
    "version": 3
   },
   "file_extension": ".py",
   "mimetype": "text/x-python",
   "name": "python",
   "nbconvert_exporter": "python",
   "pygments_lexer": "ipython3",
   "version": "3.13.0"
  }
 },
 "nbformat": 4,
 "nbformat_minor": 5
}
